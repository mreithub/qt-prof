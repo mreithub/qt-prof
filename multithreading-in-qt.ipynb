{
 "cells": [
  {
   "cell_type": "markdown",
   "metadata": {
    "slideshow": {
     "slide_type": "slide"
    }
   },
   "source": [
    "```cpp\n",
    "qDebug(\"Writing multithreaded applications in Qt\");\n",
    "```\n",
    "\n",
    "<br />\n",
    "<sub>(CC0) 2017 Manuel Reithuber</sub>\n"
   ]
  },
  {
   "cell_type": "markdown",
   "metadata": {
    "slideshow": {
     "slide_type": "slide"
    }
   },
   "source": [
    "# QThread"
   ]
  },
  {
   "cell_type": "markdown",
   "metadata": {
    "slideshow": {
     "slide_type": "subslide"
    }
   },
   "source": [
    "Don't do this[<sup>1</sup>][1]\n",
    "\n",
    "```cpp\n",
    "class MyWorker: public QThread {\n",
    "public:\n",
    "  void run() {\n",
    "    qDebug(\"I'm in a thread!\");\n",
    "  }\n",
    "};\n",
    "\n",
    "void somewhereInTheMainThread() {\n",
    "  MyWorker *worker = new MyWorker();\n",
    "  worker -> start();\n",
    "}\n",
    "```\n",
    "\n",
    "[1]: http://blog.qt.io/blog/2010/06/17/youre-doing-it-wrong/"
   ]
  },
  {
   "cell_type": "markdown",
   "metadata": {
    "slideshow": {
     "slide_type": "fragment"
    }
   },
   "source": [
    "<sup>1</sup>: http://blog.qt.io/blog/2010/06/17/youre-doing-it-wrong/"
   ]
  },
  {
   "cell_type": "markdown",
   "metadata": {
    "slideshow": {
     "slide_type": "subslide"
    }
   },
   "source": [
    "Instead do this:\n",
    "\n",
    "```cpp\n",
    "class MyWorker: public QObject {\n",
    "public slots:\n",
    "  void run() {\n",
    "    qDebug(\"I'm also in a thread\");\n",
    "  }\n",
    "};\n",
    "\n",
    "void somewhereInTheMainThread() {\n",
    "  QThread *thread = new QThread();\n",
    "  MyWorker worker = new MyWorker();\n",
    "\n",
    "  worker->moveToThread(thread);\n",
    "  connect(thread, SIGNAL(started()),\n",
    "    worker, SLOT(run());\n",
    "\n",
    "  thread->start();\n",
    "}\n",
    "```"
   ]
  },
  {
   "cell_type": "markdown",
   "metadata": {
    "slideshow": {
     "slide_type": "subslide"
    }
   },
   "source": [
    "Or use `QThreadPool`:\n",
    "\n",
    "```cpp\n",
    "class MyWorker: public QRunnable {\n",
    "public:\n",
    "  void run() {\n",
    "    for (int i = 0; i < 100; i += 10) {\n",
    "      emit progress(i);\n",
    "      sleep(1);\n",
    "    }\n",
    "    emit done()\n",
    "  }\n",
    "signals:\n",
    "  void progress(int); // in percent\n",
    "  void done()\n",
    "};\n",
    "\n",
    "void somewhereInTheMainThread() {\n",
    "  QThreadPool *pool = new QThreadPool()\n",
    "  pool->setMaxThreadCount(10);\n",
    "  pool->start(new MyWorker());\n",
    "}\n",
    "```"
   ]
  },
  {
   "cell_type": "markdown",
   "metadata": {
    "slideshow": {
     "slide_type": "slide"
    }
   },
   "source": [
    "# Writing thread safe code"
   ]
  },
  {
   "cell_type": "markdown",
   "metadata": {
    "slideshow": {
     "slide_type": "subslide"
    }
   },
   "source": [
    "  ## Signals/Slots\n",
    "\n",
    "```cpp\n",
    "connect(\n",
    "  srcObject, SIGNAL(somethingHappened()),\n",
    "  tgtObject, SLOT(react(),\n",
    "  connectionType);\n",
    "```"
   ]
  },
  {
   "cell_type": "markdown",
   "metadata": {
    "slideshow": {
     "slide_type": "fragment"
    }
   },
   "source": [
    "e.g.:\n",
    "\n",
    "```cpp\n",
    "QTimer *timer = new QTimer(this);\n",
    "timer.setInterval(500);\n",
    "connect(timer, SIGNAL(timeout(), this, SLOT(onTimeout());\n",
    "timer.start();\n",
    "```\n",
    "\n",
    "basically a (per-thread) message bus"
   ]
  },
  {
   "cell_type": "markdown",
   "metadata": {
    "slideshow": {
     "slide_type": "subslide"
    }
   },
   "source": [
    "`Qt::DirectConnection`\n",
    "- 'simply' calls the slot method"
   ]
  },
  {
   "cell_type": "markdown",
   "metadata": {
    "slideshow": {
     "slide_type": "fragment"
    }
   },
   "source": [
    "`Qt::QueuedConnection`\n",
    "- puts the event into the target thread's event queue"
   ]
  },
  {
   "cell_type": "markdown",
   "metadata": {
    "slideshow": {
     "slide_type": "fragment"
    }
   },
   "source": [
    "\n",
    "`Qt::AutoConnection`\n",
    "- Picks the right one from above based on whether the objects belong to the same thread"
   ]
  },
  {
   "cell_type": "markdown",
   "metadata": {
    "slideshow": {
     "slide_type": "subslide"
    }
   },
   "source": [
    "```cpp\n",
    "Q_DECLARE_METATYPE(...);\n",
    "qRegisterMetatype(...);\n",
    "```"
   ]
  },
  {
   "cell_type": "markdown",
   "metadata": {
    "slideshow": {
     "slide_type": "subslide"
    }
   },
   "source": [
    "# Mutexes and locks\n",
    "\n",
    "`QMutex`, `QSemaphore`, `QReadWriteLock`, ..."
   ]
  },
  {
   "cell_type": "markdown",
   "metadata": {
    "slideshow": {
     "slide_type": "subslide"
    }
   },
   "source": [
    "```cpp\n",
    "class Threadsafe {\n",
    "  QMutex m_mutex;\n",
    "  int m_value;\n",
    "public:\n",
    "  void increment() {\n",
    "    QMutexLocker l(&m_mutex);\n",
    "    m_value = getValue() + 1;\n",
    "  }\n",
    "\n",
    "  int getValue() {\n",
    "    QMutexLocker l(&m_mutex);\n",
    "    return m_value;\n",
    "  }\n",
    "};\n",
    "```"
   ]
  },
  {
   "cell_type": "markdown",
   "metadata": {
    "slideshow": {
     "slide_type": "fragment"
    }
   },
   "source": [
    "... will lock forever (unless you set `m_mutex`'s RecursionMode to `QMutex::Recursive`)"
   ]
  },
  {
   "cell_type": "markdown",
   "metadata": {
    "slideshow": {
     "slide_type": "subslide"
    }
   },
   "source": [
    "```cpp\n",
    "class Threadsafe {\n",
    "  QReadWriteLock m_lock(QReadWriteLock::Recursive);\n",
    "  int m_value;\n",
    "public:\n",
    "  void increment() {\n",
    "    QWriteLocker l(&m_lock);\n",
    "    m_value = getValue() + 1;\n",
    "  }\n",
    "\n",
    "  QDateTime getValue() {\n",
    "    QReadLocker l(&m_lock)\n",
    "    return m_value;\n",
    "  }\n",
    "};\n",
    "```"
   ]
  },
  {
   "cell_type": "markdown",
   "metadata": {
    "slideshow": {
     "slide_type": "fragment"
    }
   },
   "source": [
    "... will lock forever (relocking is not supported - not even if we already have the write lock)"
   ]
  },
  {
   "cell_type": "markdown",
   "metadata": {
    "slideshow": {
     "slide_type": "subslide"
    }
   },
   "source": [
    "## Deadlocks\n",
    "\n",
    "```cpp\n",
    "QMutex m1, m2;\n",
    "\n",
    "void a() {\n",
    "  m1.lock();\n",
    "  // fetch res1\n",
    "  m2.lock();\n",
    "  // operate on res1+res2\n",
    "  m2.unlock(); m1.unlock();\n",
    "}\n",
    "\n",
    "void b() {\n",
    "  m2.lock();\n",
    "  // fetch res2\n",
    "  m1.lock();\n",
    "  // operate on res1+res2\n",
    "  m1.unlock(); m2.unlock();\n",
    "}\n",
    "```"
   ]
  },
  {
   "cell_type": "markdown",
   "metadata": {
    "slideshow": {
     "slide_type": "subslide"
    }
   },
   "source": [
    "## Immutability\n",
    "\n",
    "```cpp\n",
    "class MyData {\n",
    "public:\n",
    "  MyData(const QString &name): m_name(name) {}\n",
    "\n",
    "private:\n",
    "  const QString m_name;\n",
    "}\n",
    "```"
   ]
  },
  {
   "cell_type": "markdown",
   "metadata": {
    "slideshow": {
     "slide_type": "fragment"
    }
   },
   "source": [
    "(marking fields `const` is not a must, but makes things cleaner)"
   ]
  },
  {
   "cell_type": "markdown",
   "metadata": {
    "slideshow": {
     "slide_type": "subslide"
    }
   },
   "source": [
    "## `QAtomicInt`\n",
    "\n",
    "Provide lock-free atomic operations (great for reference counting)\n",
    "\n",
    "Operations:\n",
    "- `fetchAndAdd()`\n",
    "- `testAndSet()`\n",
    "- `ref()` and `deref()` (return `true` if new value is nonzero)"
   ]
  },
  {
   "cell_type": "markdown",
   "metadata": {
    "slideshow": {
     "slide_type": "slide"
    }
   },
   "source": [
    "# Introspection"
   ]
  },
  {
   "cell_type": "markdown",
   "metadata": {
    "slideshow": {
     "slide_type": "fragment"
    }
   },
   "source": [
    "- `QThread::currentThread()`\n",
    "- `QThread.setObjectName()`\n",
    "- `QObject.thread()`"
   ]
  },
  {
   "cell_type": "markdown",
   "metadata": {
    "slideshow": {
     "slide_type": "fragment"
    }
   },
   "source": [
    "```cpp\n",
    "void MyClass::someMethod() {\n",
    "  if (this->thread() != QThread::currentThread()) {\n",
    "    qFatal(\"PANIC!!!!\");\n",
    "  }\n",
    "\n",
    "  // ... actual code ...\n",
    "}\n",
    "```"
   ]
  },
  {
   "cell_type": "markdown",
   "metadata": {
    "slideshow": {
     "slide_type": "subslide"
    }
   },
   "source": [
    "## `qt-prof`"
   ]
  },
  {
   "cell_type": "markdown",
   "metadata": {
    "slideshow": {
     "slide_type": "fragment"
    }
   },
   "source": [
    "[github.com/mreithub/qt-prof](https://github.com/mreithub/qt-prof)"
   ]
  },
  {
   "cell_type": "markdown",
   "metadata": {
    "slideshow": {
     "slide_type": "fragment"
    }
   },
   "source": [
    "Macros:\n",
    "\n",
    "- `PROFILER(scope, name)`  \n",
    "  tracks invocation count and execution time of your methods (by QThread)\n",
    "- `CHECK_THREAD`\n",
    "  makes sure a method is called from the right QThread (must be in subclass of QObject) "
   ]
  },
  {
   "cell_type": "markdown",
   "metadata": {
    "slideshow": {
     "slide_type": "fragment"
    }
   },
   "source": [
    "Won't be compiled unless you define the `USE_PROFILER` macro "
   ]
  },
  {
   "cell_type": "markdown",
   "metadata": {
    "slideshow": {
     "slide_type": "subslide"
    }
   },
   "source": [
    "### ... demo time ..."
   ]
  },
  {
   "cell_type": "markdown",
   "metadata": {
    "slideshow": {
     "slide_type": "slide"
    }
   },
   "source": [
    "# Subtle pitfalls\n",
    "\n",
    "- QObject belongs to the wrong thread (e.g. when allocated in the constructor and forgot to call `moveToThread()`\n",
    "- doing GUI stuff outside the main thread\n",
    "- `QThread::run()` vs. `QThread::start()`\n",
    "- too many threads\n",
    "- parent in different thread\n",
    "- `delete` vs. `deleteLater()`\n",
    "- `QNetworkAccessManager`'s request limit\n",
    "- race conditions"
   ]
  },
  {
   "cell_type": "markdown",
   "metadata": {
    "slideshow": {
     "slide_type": "slide"
    }
   },
   "source": [
    "# Tips\n",
    "- Keep background tasks as clean and short as possible\n",
    "- Keep your data objects dumb and immutable (avoid locking unless absolutely necessary)\n",
    "- Use Qt's Signal/Slot system (and pass those immutable objects)\n",
    "- Keep locks as short as possible\n",
    "- QMutex::RecursionMode (take special care of `QReadWriteLock` though)\n",
    "- Use an in-app DB (like SQLite)\n"
   ]
  },
  {
   "cell_type": "markdown",
   "metadata": {
    "slideshow": {
     "slide_type": "slide"
    }
   },
   "source": [
    "# Questions?\n",
    "\n",
    "<br />\n",
    "<br />\n",
    "\n",
    "- Twitter: @mreithub\n",
    "- Github: mreithub\n",
    "- Blog: //manuel.reithuber.net/\n"
   ]
  }
 ],
 "metadata": {
  "celltoolbar": "Slideshow",
  "kernelspec": {
   "display_name": "Python 3",
   "language": "python",
   "name": "python3"
  }
 },
 "nbformat": 4,
 "nbformat_minor": 0
}
